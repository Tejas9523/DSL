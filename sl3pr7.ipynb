{
  "nbformat": 4,
  "nbformat_minor": 0,
  "metadata": {
    "colab": {
      "provenance": [],
      "include_colab_link": true
    },
    "kernelspec": {
      "name": "python3",
      "display_name": "Python 3"
    },
    "language_info": {
      "name": "python"
    }
  },
  "cells": [
    {
      "cell_type": "markdown",
      "metadata": {
        "id": "view-in-github",
        "colab_type": "text"
      },
      "source": [
        "<a href=\"https://colab.research.google.com/github/Tejas9523/DSLAB/blob/main/sl3pr7.ipynb\" target=\"_parent\"><img src=\"https://colab.research.google.com/assets/colab-badge.svg\" alt=\"Open In Colab\"/></a>"
      ]
    },
    {
      "cell_type": "code",
      "source": [
        "import nltk"
      ],
      "metadata": {
        "id": "S10ozU_TQvyJ"
      },
      "execution_count": 1,
      "outputs": []
    },
    {
      "cell_type": "code",
      "source": [
        "nltk.download('punkt')\n",
        "nltk.download('stopwords')\n",
        "nltk.download('wordnet')\n",
        "nltk.download('averaged_perceptron_tagger')"
      ],
      "metadata": {
        "id": "evEYpk5IPXis",
        "colab": {
          "base_uri": "https://localhost:8080/"
        },
        "outputId": "777c9760-cac5-4e15-9079-b5ff0e0e7e93"
      },
      "execution_count": 2,
      "outputs": [
        {
          "output_type": "stream",
          "name": "stderr",
          "text": [
            "[nltk_data] Downloading package punkt to /root/nltk_data...\n",
            "[nltk_data]   Unzipping tokenizers/punkt.zip.\n",
            "[nltk_data] Downloading package stopwords to /root/nltk_data...\n",
            "[nltk_data]   Unzipping corpora/stopwords.zip.\n",
            "[nltk_data] Downloading package wordnet to /root/nltk_data...\n",
            "[nltk_data] Downloading package averaged_perceptron_tagger to\n",
            "[nltk_data]     /root/nltk_data...\n",
            "[nltk_data]   Unzipping taggers/averaged_perceptron_tagger.zip.\n"
          ]
        },
        {
          "output_type": "execute_result",
          "data": {
            "text/plain": [
              "True"
            ]
          },
          "metadata": {},
          "execution_count": 2
        }
      ]
    },
    {
      "cell_type": "code",
      "source": [
        "text= \"Tokenization is the first step in text analytics. The process of breaking down a text paragraph into smaller chunks such as words or sentences is called Tokenization.\""
      ],
      "metadata": {
        "id": "RW8otk2DQ3O1"
      },
      "execution_count": 3,
      "outputs": []
    },
    {
      "cell_type": "code",
      "source": [
        "#Sentence Tokenization\n",
        "from nltk.tokenize import sent_tokenize\n",
        "tokenized_text= sent_tokenize(text)\n",
        "print(tokenized_text)\n",
        "#Word Tokenization\n",
        "from nltk.tokenize import word_tokenize\n",
        "tokenized_word=word_tokenize(text)\n",
        "print(tokenized_word)\n"
      ],
      "metadata": {
        "colab": {
          "base_uri": "https://localhost:8080/"
        },
        "id": "S3UJ3MlARA9H",
        "outputId": "742d9a47-e027-4d17-e309-0616861ce901"
      },
      "execution_count": 4,
      "outputs": [
        {
          "output_type": "stream",
          "name": "stdout",
          "text": [
            "['Tokenization is the first step in text analytics.', 'The process of breaking down a text paragraph into smaller chunks such as words or sentences is called Tokenization.']\n",
            "['Tokenization', 'is', 'the', 'first', 'step', 'in', 'text', 'analytics', '.', 'The', 'process', 'of', 'breaking', 'down', 'a', 'text', 'paragraph', 'into', 'smaller', 'chunks', 'such', 'as', 'words', 'or', 'sentences', 'is', 'called', 'Tokenization', '.']\n"
          ]
        }
      ]
    },
    {
      "cell_type": "code",
      "source": [
        "# print stop words of English\n",
        "import re\n",
        "\n",
        "from nltk.corpus import stopwords\n",
        "stop_words=set(stopwords.words(\"english\"))\n",
        "print(stop_words)\n",
        "text= \"How to remove stop words with NLTK library in Python?\"\n",
        "text= re.sub('[^a-zA-Z]', ' ',text)\n",
        "tokens = word_tokenize(text.lower())\n",
        "filtered_text=[]\n",
        "for w in tokens:\n",
        "  if w not in stop_words:\n",
        "    filtered_text.append(w)\n",
        "print(\"Tokenized Sentence:\",tokens)\n",
        "print(\"Filterd Sentence:\",filtered_text)"
      ],
      "metadata": {
        "colab": {
          "base_uri": "https://localhost:8080/"
        },
        "id": "ol6Ba9LRRH-m",
        "outputId": "b70dc0f1-1283-4995-fcef-c7e138932c06"
      },
      "execution_count": 5,
      "outputs": [
        {
          "output_type": "stream",
          "name": "stdout",
          "text": [
            "{'themselves', 're', 'our', 's', 'wouldn', 'during', 'above', 'over', 'all', 'haven', 'and', 'those', 'both', 'me', 'do', \"weren't\", 'couldn', 'hadn', 'but', 'which', 'into', 'how', 'don', \"don't\", 'up', 'does', 'out', 'she', 'weren', 'for', 'we', 'each', 'such', 'am', \"shouldn't\", 'not', 'him', 'is', 'down', 'are', 'be', 'been', 't', 'can', \"hasn't\", \"mightn't\", 'or', \"aren't\", 'than', 'being', 'same', 'so', \"mustn't\", 'by', 'mustn', 'more', 'any', \"wasn't\", 'very', 'has', 'most', 'before', 'isn', 'won', 'ma', 'own', 'i', \"should've\", \"needn't\", 'ain', 'few', 'was', 'have', 'hasn', 'what', 'doesn', \"won't\", \"couldn't\", 'while', 'now', 'nor', 'then', 'under', 'their', 'shouldn', 'off', \"hadn't\", 'from', 'didn', 'having', 'hers', 'only', 'd', 'his', 'll', 'your', 'them', 'you', 'should', 'yours', 'about', \"doesn't\", 'herself', 'whom', 'o', 'because', 'needn', 'where', 'doing', 'some', \"you'd\", 'other', 'my', 'just', 'theirs', 'an', \"she's\", 'the', 'of', \"shan't\", 'if', 'against', 'to', \"that'll\", 've', 'ours', 'at', 'through', 'were', 'again', 'wasn', 'y', 'its', 'he', 'between', 'a', 'further', \"you've\", 'no', 'itself', \"wouldn't\", 'm', 'why', \"isn't\", 'her', 'this', \"it's\", 'myself', \"didn't\", 'with', 'when', 'himself', 'will', \"haven't\", \"you're\", 'in', 'who', 'that', 'had', 'once', 'they', 'these', 'after', 'shan', 'too', 'mightn', 'below', 'on', 'yourself', 'until', \"you'll\", 'here', 'did', 'it', 'aren', 'ourselves', 'yourselves', 'there', 'as'}\n",
            "Tokenized Sentence: ['how', 'to', 'remove', 'stop', 'words', 'with', 'nltk', 'library', 'in', 'python']\n",
            "Filterd Sentence: ['remove', 'stop', 'words', 'nltk', 'library', 'python']\n"
          ]
        }
      ]
    },
    {
      "cell_type": "code",
      "source": [
        "from nltk.stem import PorterStemmer\n",
        "e_words= [\"wait\", \"waiting\", \"waited\", \"waits\"]\n",
        "ps =PorterStemmer()\n",
        "for w in e_words:\n",
        "  rootWord=ps.stem(w)\n",
        "print(rootWord)\n"
      ],
      "metadata": {
        "colab": {
          "base_uri": "https://localhost:8080/"
        },
        "id": "R2PSrjuMRYD2",
        "outputId": "d076117c-dad6-4793-b449-0de6d62d2b35"
      },
      "execution_count": 6,
      "outputs": [
        {
          "output_type": "stream",
          "name": "stdout",
          "text": [
            "wait\n"
          ]
        }
      ]
    },
    {
      "cell_type": "code",
      "source": [
        "from nltk.stem import WordNetLemmatizer\n",
        "wordnet_lemmatizer = WordNetLemmatizer()\n",
        "text = \"studies studying cries cry\"\n",
        "tokenization = nltk.word_tokenize(text)\n",
        "print(tokenization)\n",
        "for w in tokenization:\n",
        "  print(\"Lemma for {} is {}\".format(w,wordnet_lemmatizer.lemmatize(w)))\n",
        "print(wordnet_lemmatizer.lemmatize(\"studying\",pos='v'))"
      ],
      "metadata": {
        "colab": {
          "base_uri": "https://localhost:8080/"
        },
        "id": "LbH5cDUkRm20",
        "outputId": "00ea4cb0-05b0-4e33-99b8-e8be547450e0"
      },
      "execution_count": 7,
      "outputs": [
        {
          "output_type": "stream",
          "name": "stdout",
          "text": [
            "['studies', 'studying', 'cries', 'cry']\n",
            "Lemma for studies is study\n",
            "Lemma for studying is studying\n",
            "Lemma for cries is cry\n",
            "Lemma for cry is cry\n",
            "study\n"
          ]
        }
      ]
    },
    {
      "cell_type": "code",
      "source": [
        "\n",
        "import nltk\n",
        "from nltk.tokenize import word_tokenize\n",
        "data=\"The pink sweater fit her perfectly\"\n",
        "words=word_tokenize(data)\n",
        "for word in words:\n",
        "  print(nltk.pos_tag([word]))"
      ],
      "metadata": {
        "colab": {
          "base_uri": "https://localhost:8080/"
        },
        "id": "lDrnlp02RnSo",
        "outputId": "e92b95ac-4040-49fc-863c-c3d712f391ee"
      },
      "execution_count": 8,
      "outputs": [
        {
          "output_type": "stream",
          "name": "stdout",
          "text": [
            "[('The', 'DT')]\n",
            "[('pink', 'NN')]\n",
            "[('sweater', 'NN')]\n",
            "[('fit', 'NN')]\n",
            "[('her', 'PRP$')]\n",
            "[('perfectly', 'RB')]\n"
          ]
        }
      ]
    },
    {
      "cell_type": "code",
      "source": [
        "# Step 1: Import the necessary libraries.\n",
        "import pandas as pd\n",
        "import math"
      ],
      "metadata": {
        "id": "dB0PI0jUgHnu"
      },
      "execution_count": 9,
      "outputs": []
    },
    {
      "cell_type": "code",
      "source": [
        "# Step 2: Initialize the Documents.\n",
        "documentA = 'Jupiter is the largest Planet'\n",
        "documentB = 'Mars is the fourth planet from the Sun'\n"
      ],
      "metadata": {
        "id": "bfCMFEGzg2cd"
      },
      "execution_count": 10,
      "outputs": []
    },
    {
      "cell_type": "code",
      "source": [
        "# Step 3: Create BagofWords (BoW) for Document A and B.\n",
        "bagOfWordsA = documentA.split(' ')\n",
        "bagOfWordsB = documentB.split(' ')"
      ],
      "metadata": {
        "id": "hmnjyZr9g3fX"
      },
      "execution_count": 11,
      "outputs": []
    },
    {
      "cell_type": "code",
      "source": [
        "# Step 4: Create Collection of Unique words from Document A and B.\n",
        "uniqueWords = set(bagOfWordsA).union(set(bagOfWordsB))"
      ],
      "metadata": {
        "id": "wVEwUhoHg-FD"
      },
      "execution_count": 12,
      "outputs": []
    },
    {
      "cell_type": "code",
      "source": [
        "# Step 5: Create a dictionary of words and their occurrence for each document in the corpus\n",
        "numOfWordsA = dict.fromkeys(uniqueWords, 0)\n",
        "for word in bagOfWordsA:\n",
        "    numOfWordsA[word] += 1\n",
        "\n",
        "    numOfWordsB = dict.fromkeys(uniqueWords, 0)\n",
        "for word in bagOfWordsB:\n",
        "    numOfWordsB[word] += 1"
      ],
      "metadata": {
        "id": "qc2ZVmfBhAvF"
      },
      "execution_count": 13,
      "outputs": []
    },
    {
      "cell_type": "code",
      "source": [
        "# Step 6: Compute the term frequency for each of our documents.\n",
        "def computeTF(wordDict, bagOfWords):\n",
        "    tfDict = {}\n",
        "    bagOfWordsCount = len(bagOfWords)\n",
        "    for word, count in wordDict.items():\n",
        "        tfDict[word] = count / float(bagOfWordsCount)\n",
        "    return tfDict\n",
        "\n",
        "tfA = computeTF(numOfWordsA, bagOfWordsA)\n",
        "tfB = computeTF(numOfWordsB, bagOfWordsB)\n"
      ],
      "metadata": {
        "id": "HJ-Ov3ZjhByL"
      },
      "execution_count": 14,
      "outputs": []
    },
    {
      "cell_type": "code",
      "source": [
        "# Step 7: Compute the term Inverse Document Frequency.\n",
        "def computeIDF(documents):\n",
        "    N = len(documents)\n",
        "    idfDict = dict.fromkeys(documents[0].keys(), 0)\n",
        "    for document in documents:\n",
        "        for word, val in document.items():\n",
        "            if val > 0:\n",
        "                idfDict[word] += 1\n",
        "    for word, val in idfDict.items():\n",
        "        idfDict[word] = math.log(N / float(val))\n",
        "    return idfDict\n",
        "\n",
        "idfs = computeIDF([numOfWordsA, numOfWordsB])\n",
        "idfs"
      ],
      "metadata": {
        "colab": {
          "base_uri": "https://localhost:8080/"
        },
        "id": "nTLyy2kwhJg6",
        "outputId": "004db81a-3fe1-4b6a-d4ca-749c0fe5374e"
      },
      "execution_count": 15,
      "outputs": [
        {
          "output_type": "execute_result",
          "data": {
            "text/plain": [
              "{'largest': 0.6931471805599453,\n",
              " 'from': 0.6931471805599453,\n",
              " 'Planet': 0.6931471805599453,\n",
              " 'fourth': 0.6931471805599453,\n",
              " 'planet': 0.6931471805599453,\n",
              " 'Mars': 0.6931471805599453,\n",
              " 'is': 0.0,\n",
              " 'Sun': 0.6931471805599453,\n",
              " 'the': 0.0,\n",
              " 'Jupiter': 0.6931471805599453}"
            ]
          },
          "metadata": {},
          "execution_count": 15
        }
      ]
    },
    {
      "cell_type": "code",
      "source": [
        "# Step 8: Compute the term TF/IDF for all words.\n",
        "def computeTFIDF(tfBagOfWords, idfs):\n",
        "    tfidf = {}\n",
        "    for word, val in tfBagOfWords.items():\n",
        "        tfidf[word] = val * idfs[word]\n",
        "    return tfidf\n",
        "\n",
        "tfidfA = computeTFIDF(tfA, idfs)\n",
        "tfidfB = computeTFIDF(tfB, idfs)"
      ],
      "metadata": {
        "id": "hBgWgsRyhMLF"
      },
      "execution_count": 16,
      "outputs": []
    },
    {
      "cell_type": "code",
      "source": [
        "# Create DataFrame\n",
        "df = pd.DataFrame([tfidfA, tfidfB])\n",
        "print(df)"
      ],
      "metadata": {
        "colab": {
          "base_uri": "https://localhost:8080/"
        },
        "id": "JSNRr4gLhOQ8",
        "outputId": "6cd02b11-33ef-4aad-d2e6-02e6209b7b9e"
      },
      "execution_count": 17,
      "outputs": [
        {
          "output_type": "stream",
          "name": "stdout",
          "text": [
            "    largest      from    Planet    fourth    planet      Mars   is       Sun  \\\n",
            "0  0.138629  0.000000  0.138629  0.000000  0.000000  0.000000  0.0  0.000000   \n",
            "1  0.000000  0.086643  0.000000  0.086643  0.086643  0.086643  0.0  0.086643   \n",
            "\n",
            "   the   Jupiter  \n",
            "0  0.0  0.138629  \n",
            "1  0.0  0.000000  \n"
          ]
        }
      ]
    }
  ]
}