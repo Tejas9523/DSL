{
  "nbformat": 4,
  "nbformat_minor": 0,
  "metadata": {
    "colab": {
      "provenance": [],
      "authorship_tag": "ABX9TyPXp3PDH5kdhjjOIIDi4Fea",
      "include_colab_link": true
    },
    "kernelspec": {
      "name": "python3",
      "display_name": "Python 3"
    },
    "language_info": {
      "name": "python"
    }
  },
  "cells": [
    {
      "cell_type": "markdown",
      "metadata": {
        "id": "view-in-github",
        "colab_type": "text"
      },
      "source": [
        "<a href=\"https://colab.research.google.com/github/Tejas9523/SL3PR/blob/main/sl3pr7.ipynb\" target=\"_parent\"><img src=\"https://colab.research.google.com/assets/colab-badge.svg\" alt=\"Open In Colab\"/></a>"
      ]
    },
    {
      "cell_type": "code",
      "execution_count": 3,
      "metadata": {
        "colab": {
          "base_uri": "https://localhost:8080/"
        },
        "id": "V7hPMYXBni-C",
        "outputId": "c0203bee-1a44-4891-8b74-b550270fd552"
      },
      "outputs": [
        {
          "output_type": "stream",
          "name": "stderr",
          "text": [
            "[nltk_data] Downloading package punkt to /root/nltk_data...\n",
            "[nltk_data]   Package punkt is already up-to-date!\n",
            "[nltk_data] Downloading package stopwords to /root/nltk_data...\n",
            "[nltk_data]   Package stopwords is already up-to-date!\n",
            "[nltk_data] Downloading package wordnet to /root/nltk_data...\n",
            "[nltk_data]   Package wordnet is already up-to-date!\n",
            "[nltk_data] Downloading package averaged_perceptron_tagger to\n",
            "[nltk_data]     /root/nltk_data...\n",
            "[nltk_data]   Package averaged_perceptron_tagger is already up-to-\n",
            "[nltk_data]       date!\n"
          ]
        },
        {
          "output_type": "execute_result",
          "data": {
            "text/plain": [
              "True"
            ]
          },
          "metadata": {},
          "execution_count": 3
        }
      ],
      "source": [
        "import nltk\n",
        "import re\n",
        "nltk.download('punkt')\n",
        "nltk.download('stopwords')\n",
        "nltk.download('wordnet')\n",
        "nltk.download('averaged_perceptron_tagger')"
      ]
    },
    {
      "cell_type": "code",
      "source": [
        "text= \"Tokenization is the first step in text analytics. The process of breaking down a text paragraph into smaller chunks such as words or sentences is called Tokenization.\""
      ],
      "metadata": {
        "id": "PVR-t1DlnrfY"
      },
      "execution_count": 5,
      "outputs": []
    },
    {
      "cell_type": "code",
      "source": [
        "#Sentence Tokenization\n",
        "from nltk.tokenize import sent_tokenize\n",
        "tokenized_text= sent_tokenize(text)\n",
        "print(tokenized_text)\n",
        "#Word Tokenization\n",
        "from nltk.tokenize import word_tokenize\n",
        "tokenized_word=word_tokenize(text)\n",
        "print(tokenized_word)"
      ],
      "metadata": {
        "colab": {
          "base_uri": "https://localhost:8080/"
        },
        "id": "x9hJAhmqntHP",
        "outputId": "269677d0-9ef9-4ea4-f4da-af24405af0f0"
      },
      "execution_count": 6,
      "outputs": [
        {
          "output_type": "stream",
          "name": "stdout",
          "text": [
            "['Tokenization is the first step in text analytics.', 'The process of breaking down a text paragraph into smaller chunks such as words or sentences is called Tokenization.']\n",
            "['Tokenization', 'is', 'the', 'first', 'step', 'in', 'text', 'analytics', '.', 'The', 'process', 'of', 'breaking', 'down', 'a', 'text', 'paragraph', 'into', 'smaller', 'chunks', 'such', 'as', 'words', 'or', 'sentences', 'is', 'called', 'Tokenization', '.']\n"
          ]
        }
      ]
    },
    {
      "cell_type": "code",
      "source": [
        "#print stop words of English\n",
        "from nltk.corpus import stopwords\n",
        "stop_words=set(stopwords.words(\"english\"))\n",
        "print(stop_words)\n",
        "text= \"How to remove stop words with NLTK library in Python?\"\n",
        "text= re.sub('[^a-zA-Z]', ' ',text)\n",
        "tokens = word_tokenize(text.lower())\n",
        "filtered_text=[]\n",
        "for w in tokens:\n",
        "  if w not in stop_words:\n",
        "    filtered_text.append(w)\n",
        "print(\"Tokenized Sentence:\",tokens)\n",
        "print(\"Filterd Sentence:\",filtered_text)"
      ],
      "metadata": {
        "colab": {
          "base_uri": "https://localhost:8080/"
        },
        "id": "zViXHHkln8Kf",
        "outputId": "f0f23810-f937-4bdf-a4ff-3dbf06a8b49d"
      },
      "execution_count": 9,
      "outputs": [
        {
          "output_type": "stream",
          "name": "stdout",
          "text": [
            "{'at', \"shouldn't\", 'there', 'where', 'itself', \"didn't\", 'has', 'most', 'my', 'needn', 'against', \"hadn't\", 'ourselves', 'don', \"mustn't\", 'which', 'o', 'herself', \"shan't\", 'were', 'about', \"haven't\", \"you're\", 'have', 'both', 'me', 'own', 'was', 'then', 'wouldn', 'she', 'does', 'yours', 'as', 'did', 'they', \"aren't\", 'themselves', 'in', 'or', 'himself', 's', 'doing', 'now', 'mightn', 'during', 'hadn', 'to', 'weren', \"don't\", 'once', 'very', 'ma', 'into', 'should', 'couldn', \"mightn't\", 'if', 'out', 'only', 'no', 'the', 'm', 'shan', 'won', 'under', 'yourself', 'their', 'just', \"that'll\", 't', 'yourselves', 'll', 'each', 'when', 'haven', 'are', 'being', \"you've\", 'd', 'over', \"you'll\", 'been', 'having', 'that', 'shouldn', 'them', 'this', 'y', 'what', 'will', \"isn't\", \"she's\", 'a', 'whom', 'how', 'nor', 'so', 'her', \"doesn't\", 'more', \"wouldn't\", 'it', 'didn', 'on', 'ours', 'some', 'by', 'of', 'hers', 'doesn', 'down', \"you'd\", 'am', 'mustn', 'who', 'but', 'few', 'for', 'be', 'off', 'these', \"should've\", 'myself', 'i', 'do', 'aren', 'our', 'such', 'before', 'wasn', 'through', 've', \"hasn't\", 'until', 'because', \"it's\", 'again', 'while', \"won't\", 'ain', 'with', 'and', 'an', \"couldn't\", \"weren't\", 'too', 'we', 'theirs', 'had', 'your', 'here', 'from', 'can', 'than', 'you', 'him', 'he', 'its', 'above', 'further', 'other', 'below', 'hasn', 'his', 'up', 'between', 're', 'not', \"needn't\", \"wasn't\", 'any', 'is', 'same', 'all', 'isn', 'after', 'why', 'those'}\n",
            "Tokenized Sentence: ['how', 'to', 'remove', 'stop', 'words', 'with', 'nltk', 'library', 'in', 'python']\n",
            "Filterd Sentence: ['remove', 'stop', 'words', 'nltk', 'library', 'python']\n"
          ]
        }
      ]
    },
    {
      "cell_type": "code",
      "source": [
        "from nltk.stem import PorterStemmer\n",
        "e_words= [\"wait\", \"waiting\", \"waited\", \"waits\"]\n",
        "ps =PorterStemmer()\n",
        "for w in e_words:\n",
        "  rootWord=ps.stem(w)\n",
        "  print(rootWord)"
      ],
      "metadata": {
        "colab": {
          "base_uri": "https://localhost:8080/"
        },
        "id": "Y5lxWbLNoqjR",
        "outputId": "e439a24e-3924-4c26-9b4d-edf6de8583b3"
      },
      "execution_count": 11,
      "outputs": [
        {
          "output_type": "stream",
          "name": "stdout",
          "text": [
            "wait\n",
            "wait\n",
            "wait\n",
            "wait\n"
          ]
        }
      ]
    },
    {
      "cell_type": "code",
      "source": [
        "from nltk.stem import WordNetLemmatizer\n",
        "wordnet_lemmatizer = WordNetLemmatizer()\n",
        "text = \"studies studying cries cry\"\n",
        "tokenization = nltk.word_tokenize(text)\n",
        "for w in tokenization:\n",
        "  print(\"Lemma for {} is {}\".format(w,\n",
        "  wordnet_lemmatizer.lemmatize(w)))"
      ],
      "metadata": {
        "colab": {
          "base_uri": "https://localhost:8080/"
        },
        "id": "OBzmn1K4ou1Z",
        "outputId": "8f7eba68-ed21-4f53-be6e-fb81f6bd0492"
      },
      "execution_count": 12,
      "outputs": [
        {
          "output_type": "stream",
          "name": "stdout",
          "text": [
            "Lemma for studies is study\n",
            "Lemma for studying is studying\n",
            "Lemma for cries is cry\n",
            "Lemma for cry is cry\n"
          ]
        }
      ]
    },
    {
      "cell_type": "code",
      "source": [
        "import nltk\n",
        "from nltk.tokenize import word_tokenize\n",
        "data=\"The pink sweater fit her perfectly\"\n",
        "words=word_tokenize(data)\n",
        "for word in words:\n",
        "  print(nltk.pos_tag([word]))"
      ],
      "metadata": {
        "colab": {
          "base_uri": "https://localhost:8080/"
        },
        "id": "R_ec43QRo4fh",
        "outputId": "9015e18b-fd3a-4759-acef-b2bb3bcc0e3f"
      },
      "execution_count": 15,
      "outputs": [
        {
          "output_type": "stream",
          "name": "stdout",
          "text": [
            "[('The', 'DT')]\n",
            "[('pink', 'NN')]\n",
            "[('sweater', 'NN')]\n",
            "[('fit', 'NN')]\n",
            "[('her', 'PRP$')]\n",
            "[('perfectly', 'RB')]\n"
          ]
        }
      ]
    }
  ]
}