{
  "cells": [
    {
      "cell_type": "markdown",
      "metadata": {
        "id": "view-in-github",
        "colab_type": "text"
      },
      "source": [
        "<a href=\"https://colab.research.google.com/github/Tejas9523/DSLAB/blob/main/sl3pr2.ipynb\" target=\"_parent\"><img src=\"https://colab.research.google.com/assets/colab-badge.svg\" alt=\"Open In Colab\"/></a>"
      ]
    },
    {
      "cell_type": "code",
      "execution_count": 20,
      "metadata": {
        "id": "B90Bpz4BrfDO"
      },
      "outputs": [],
      "source": [
        "\n",
        "import pandas as pd\n",
        "import numpy as np\n",
        "import scipy\n",
        "from scipy import stats\n",
        "# df=pd.read_csv('batting_summary_2023.csv')"
      ]
    },
    {
      "cell_type": "code",
      "execution_count": 21,
      "metadata": {
        "colab": {
          "base_uri": "https://localhost:8080/"
        },
        "id": "_FpLMrZfrfDR",
        "outputId": "3928b22e-b8b0-465d-9d54-f47fedf2cad5"
      },
      "outputs": [
        {
          "output_type": "stream",
          "name": "stdout",
          "text": [
            "Requirement already satisfied: scipy in /usr/local/lib/python3.10/dist-packages (1.11.4)\n",
            "Requirement already satisfied: numpy<1.28.0,>=1.21.6 in /usr/local/lib/python3.10/dist-packages (from scipy) (1.25.2)\n"
          ]
        }
      ],
      "source": [
        "pip install scipy"
      ]
    },
    {
      "cell_type": "code",
      "execution_count": 22,
      "metadata": {
        "id": "vtWrdryMrfDS",
        "outputId": "70f1e983-cf2c-47c2-bd4f-f8810a464a05",
        "colab": {
          "base_uri": "https://localhost:8080/"
        }
      },
      "outputs": [
        {
          "output_type": "execute_result",
          "data": {
            "text/plain": [
              "13.0"
            ]
          },
          "metadata": {},
          "execution_count": 22
        }
      ],
      "source": [
        "df=pd.DataFrame({'values':[4,5,6,7,8,9,50]})\n",
        "q1=np.quantile(df,0.25)\n",
        "q1\n",
        "q2=np.quantile(df,0.5)\n",
        "q2\n",
        "q3=np.quantile(df,0.75)\n",
        "q3\n",
        "iqr=q3-q1\n",
        "iqr\n",
        "lb=q1-(1.5*iqr)\n",
        "lb\n",
        "ub=q3+(1.5*iqr)\n",
        "ub"
      ]
    },
    {
      "cell_type": "code",
      "execution_count": 23,
      "metadata": {
        "id": "FJ_hVM-HrfDT",
        "outputId": "2e1f65b1-4a02-406f-b881-36d51c5cffd4",
        "colab": {
          "base_uri": "https://localhost:8080/"
        }
      },
      "outputs": [
        {
          "output_type": "stream",
          "name": "stdout",
          "text": [
            "Q1: 5.5\n",
            "Q2 (Median): 7.0\n",
            "Q3: 8.5\n",
            "IQR: 3.0\n",
            "Lower Bound (lb): 1.0\n",
            "Upper Bound (ub): 13.0\n"
          ]
        }
      ],
      "source": [
        "import pandas as pd\n",
        "import numpy as np\n",
        "values=[4, 5, 6, 7, 8, 9, 50]\n",
        "\n",
        "df = pd.DataFrame({'values': [4, 5, 6, 7, 8, 9, 50]})\n",
        "\n",
        "q1 = np.quantile(df['values'], 0.25)\n",
        "\n",
        "\n",
        "q2 = np.quantile(df['values'], 0.5)\n",
        "q3 = np.quantile(df['values'], 0.75)\n",
        "iqr = q3 - q1\n",
        "\n",
        "\n",
        "lb = q1 - (1.5 * iqr)\n",
        "ub = q3 + (1.5 * iqr)\n",
        "\n",
        "\n",
        "print(\"Q1:\", q1)\n",
        "print(\"Q2 (Median):\", q2)\n",
        "print(\"Q3:\", q3)\n",
        "print(\"IQR:\", iqr)\n",
        "print(\"Lower Bound (lb):\", lb)\n",
        "print(\"Upper Bound (ub):\", ub)\n"
      ]
    },
    {
      "cell_type": "code",
      "execution_count": 24,
      "metadata": {
        "colab": {
          "base_uri": "https://localhost:8080/"
        },
        "id": "Z96HSqETrfDU",
        "outputId": "ddca896e-de81-4dab-f43d-5ffa0dbe65aa"
      },
      "outputs": [
        {
          "output_type": "execute_result",
          "data": {
            "text/plain": [
              "array([-0.56942242, -0.50407887, -0.43873531, -0.37339175, -0.3080482 ,\n",
              "       -0.24270464,  2.43638119])"
            ]
          },
          "metadata": {},
          "execution_count": 24
        }
      ],
      "source": [
        "z=stats.zscore(values,axis=0)\n",
        "z\n"
      ]
    },
    {
      "cell_type": "code",
      "execution_count": 25,
      "metadata": {
        "id": "aWP08np9rfDU"
      },
      "outputs": [],
      "source": [
        "for i in range(len(z)):\n",
        "    if z[i] > 2 and z[i] < -2:\n",
        "        print(z.remove(i))\n",
        "\n"
      ]
    },
    {
      "cell_type": "code",
      "execution_count": 26,
      "metadata": {
        "id": "TL7K9GIErfDU",
        "outputId": "96d2540a-f771-47ae-aba0-690e073420ce",
        "colab": {
          "base_uri": "https://localhost:8080/"
        }
      },
      "outputs": [
        {
          "output_type": "stream",
          "name": "stdout",
          "text": [
            "DataFrame without Outliers:\n",
            "   values\n",
            "0       4\n",
            "1       5\n",
            "2       6\n",
            "3       7\n",
            "4       8\n",
            "5       9\n"
          ]
        }
      ],
      "source": [
        "\n",
        "df = pd.DataFrame({'values': [4, 5, 6, 7, 8, 9, 50]})\n",
        "\n",
        "mean_value = df['values'].mean()\n",
        "std_value = df['values'].std()\n",
        "\n",
        "z_scores = (df['values'] - mean_value) / std_value\n",
        "\n",
        "\n",
        "threshold = 2\n",
        "\n",
        "\n",
        "df_no_outliers = df[abs(z_scores) <= threshold]\n",
        "\n",
        "print(\"DataFrame without Outliers:\")\n",
        "print(df_no_outliers)"
      ]
    },
    {
      "cell_type": "code",
      "execution_count": 27,
      "metadata": {
        "id": "_G7igmIzrfDV"
      },
      "outputs": [],
      "source": [
        "min_value=df['values'].min()\n",
        "max_value=df['values'].max()\n",
        "# n_value=(df['values']-min_value)(max_value-min_value)"
      ]
    },
    {
      "cell_type": "code",
      "execution_count": 28,
      "metadata": {
        "id": "H_glw14MrfDV",
        "outputId": "b57376c3-0f41-4971-c5dd-111b87266ce3",
        "colab": {
          "base_uri": "https://localhost:8080/"
        }
      },
      "outputs": [
        {
          "output_type": "stream",
          "name": "stdout",
          "text": [
            "Original Values:\n",
            "0     4\n",
            "1     5\n",
            "2     6\n",
            "3     7\n",
            "4     8\n",
            "5     9\n",
            "6    50\n",
            "Name: values, dtype: int64\n",
            "\n",
            "Min-Max Normalized Values:\n",
            "0    0.000000\n",
            "1    0.021739\n",
            "2    0.043478\n",
            "3    0.065217\n",
            "4    0.086957\n",
            "5    0.108696\n",
            "6    1.000000\n",
            "Name: values, dtype: float64\n"
          ]
        }
      ],
      "source": [
        "\n",
        "\n",
        "df = pd.DataFrame({'values': [4, 5, 6, 7, 8, 9, 50]})\n",
        "\n",
        "min_value = df['values'].min()\n",
        "max_value = df['values'].max()\n",
        "\n",
        "\n",
        "normalized_values = (df['values'] - min_value) / (max_value - min_value)\n",
        "\n",
        "\n",
        "print(\"Original Values:\")\n",
        "print(df['values'])\n",
        "print(\"\\nMin-Max Normalized Values:\")\n",
        "print(normalized_values)\n"
      ]
    }
  ],
  "metadata": {
    "kernelspec": {
      "display_name": "Python 3",
      "language": "python",
      "name": "python3"
    },
    "language_info": {
      "codemirror_mode": {
        "name": "ipython",
        "version": 3
      },
      "file_extension": ".py",
      "mimetype": "text/x-python",
      "name": "python",
      "nbconvert_exporter": "python",
      "pygments_lexer": "ipython3",
      "version": "3.8.10"
    },
    "colab": {
      "provenance": [],
      "include_colab_link": true
    }
  },
  "nbformat": 4,
  "nbformat_minor": 0
}